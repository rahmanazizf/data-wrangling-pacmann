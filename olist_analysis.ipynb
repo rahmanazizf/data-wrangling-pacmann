{
 "cells": [
  {
   "attachments": {},
   "cell_type": "markdown",
   "metadata": {},
   "source": [
    "# Project Data Wrangling - Pacmann"
   ]
  },
  {
   "attachments": {},
   "cell_type": "markdown",
   "metadata": {},
   "source": [
    "Created by Rahman Aziz Firmansyah (AI/ML Engineering SU)"
   ]
  },
  {
   "attachments": {},
   "cell_type": "markdown",
   "metadata": {},
   "source": [
    "## 1. Project Objectives\n",
    "[isi target yang ingin dicapai dalam proyek ini]"
   ]
  },
  {
   "attachments": {},
   "cell_type": "markdown",
   "metadata": {},
   "source": [
    "Data yang mungkin diperlukan:\n",
    "- olist_order_items_dataset\n",
    "    - kolom: product_id, seller_id, shipping_limit_date, price, freight_value\n",
    "- olist_products_dataset\n",
    "    - kolom[index]: product_id, product_category_name, product_description_length, product_photos_qty\n",
    "- olist_order_reviews_dataset\n",
    "    - kolom: order_id, review_score\n",
    "- olist_order_payments\n",
    "    - kolom: order_id, payment_sequential, payment_type, payment_installments, payment_value"
   ]
  },
  {
   "attachments": {},
   "cell_type": "markdown",
   "metadata": {},
   "source": [
    "Objectives:\n",
    "1. Perusahaan ingin mengetahui produk apa yang paling banyak dibeli pelanggan\n",
    "2. Total penjualan 10 produk yang paling banyak dibeli pelanggan\n",
    "3. Mengidentifikasi 5 Produk yang mendapat review paling baik dari pelanggan\n",
    "4. Mengidentifikasi korelasi antara durasi pengiriman dengan customer review score"
   ]
  },
  {
   "attachments": {},
   "cell_type": "markdown",
   "metadata": {},
   "source": [
    "## 2. Accessing Database\n",
    "[akses database dan satukan tabel-tabel yang diperlukan dalam 1 file]"
   ]
  },
  {
   "cell_type": "code",
   "execution_count": 46,
   "metadata": {},
   "outputs": [],
   "source": [
    "# import library required\n",
    "import sqlite3\n",
    "import matplotlib.pyplot as plt\n",
    "import numpy as np\n",
    "import pandas as pd"
   ]
  },
  {
   "cell_type": "code",
   "execution_count": 4,
   "metadata": {},
   "outputs": [],
   "source": [
    "# create a connection to olist.db\n",
    "con = sqlite3.connect('olist.db')\n",
    "\n",
    "# create a cursor to execute sql statements and fetch the result from sql database\n",
    "cr = con.cursor()"
   ]
  },
  {
   "cell_type": "code",
   "execution_count": 56,
   "metadata": {},
   "outputs": [],
   "source": [
    "# executing a query with cursor and storing the result in res\n",
    "res = cr.execute('''SELECT \n",
    "                        review_id, \n",
    "                        order_id, \n",
    "                        review_score,\n",
    "                        order_purchase_timestamp,\n",
    "                        order_delivered_customer_date,\n",
    "                        order_estimated_delivery_date\n",
    "                    FROM olist_order_reviews_dataset rev\n",
    "                    JOIN olist_order_dataset ord\n",
    "                        USING(order_id)\n",
    "                    ''')"
   ]
  },
  {
   "cell_type": "code",
   "execution_count": 57,
   "metadata": {},
   "outputs": [],
   "source": [
    "# storing data in dictionary to be converted into dataframe\n",
    "review_n_delivery = {'review_id': [],\n",
    "                    'order_id': [],\n",
    "                    'review_score': [],\n",
    "                    'purchase_time_stamp': [],\n",
    "                    'delivered_customer_date': []}\n",
    "for row in res:\n",
    "    review_n_delivery['review_id'].append(row[0])\n",
    "    review_n_delivery['order_id'].append(row[1])\n",
    "    review_n_delivery['review_score'].append(row[2])\n",
    "    review_n_delivery['purchase_time_stamp'].append(row[3])\n",
    "    review_n_delivery['delivered_customer_date'].append(row[4])"
   ]
  },
  {
   "cell_type": "code",
   "execution_count": 60,
   "metadata": {},
   "outputs": [
    {
     "data": {
      "text/html": [
       "<div>\n",
       "<style scoped>\n",
       "    .dataframe tbody tr th:only-of-type {\n",
       "        vertical-align: middle;\n",
       "    }\n",
       "\n",
       "    .dataframe tbody tr th {\n",
       "        vertical-align: top;\n",
       "    }\n",
       "\n",
       "    .dataframe thead th {\n",
       "        text-align: right;\n",
       "    }\n",
       "</style>\n",
       "<table border=\"1\" class=\"dataframe\">\n",
       "  <thead>\n",
       "    <tr style=\"text-align: right;\">\n",
       "      <th></th>\n",
       "      <th>review_id</th>\n",
       "      <th>order_id</th>\n",
       "      <th>review_score</th>\n",
       "      <th>purchase_time_stamp</th>\n",
       "      <th>delivered_customer_date</th>\n",
       "    </tr>\n",
       "  </thead>\n",
       "  <tbody>\n",
       "    <tr>\n",
       "      <th>0</th>\n",
       "      <td>7bc2406110b926393aa56f80a40eba40</td>\n",
       "      <td>73fc7af87114b39712e6da79b0a377eb</td>\n",
       "      <td>4</td>\n",
       "      <td>2018-01-11 15:30:49</td>\n",
       "      <td>2018-01-17 18:42:41</td>\n",
       "    </tr>\n",
       "    <tr>\n",
       "      <th>1</th>\n",
       "      <td>80e641a11e56f04c1ad469d5645fdfde</td>\n",
       "      <td>a548910a1c6147796b98fdf73dbeba33</td>\n",
       "      <td>5</td>\n",
       "      <td>2018-02-28 12:25:19</td>\n",
       "      <td>2018-03-09 23:17:20</td>\n",
       "    </tr>\n",
       "    <tr>\n",
       "      <th>2</th>\n",
       "      <td>228ce5500dc1d8e020d8d1322874b6f0</td>\n",
       "      <td>f9e4b658b201a9f2ecdecbb34bed034b</td>\n",
       "      <td>5</td>\n",
       "      <td>2018-02-03 09:56:22</td>\n",
       "      <td>2018-02-16 17:28:48</td>\n",
       "    </tr>\n",
       "    <tr>\n",
       "      <th>3</th>\n",
       "      <td>e64fb393e7b32834bb789ff8bb30750e</td>\n",
       "      <td>658677c97b385a9be170737859d3511b</td>\n",
       "      <td>5</td>\n",
       "      <td>2017-04-09 17:41:13</td>\n",
       "      <td>2017-04-20 09:08:35</td>\n",
       "    </tr>\n",
       "    <tr>\n",
       "      <th>4</th>\n",
       "      <td>f7c4243c7fe1938f181bec41a392bdeb</td>\n",
       "      <td>8e6bfb81e283fa7e4f11123a3fb894f1</td>\n",
       "      <td>5</td>\n",
       "      <td>2018-02-10 10:59:03</td>\n",
       "      <td>2018-02-28 16:33:35</td>\n",
       "    </tr>\n",
       "  </tbody>\n",
       "</table>\n",
       "</div>"
      ],
      "text/plain": [
       "                          review_id                          order_id  \\\n",
       "0  7bc2406110b926393aa56f80a40eba40  73fc7af87114b39712e6da79b0a377eb   \n",
       "1  80e641a11e56f04c1ad469d5645fdfde  a548910a1c6147796b98fdf73dbeba33   \n",
       "2  228ce5500dc1d8e020d8d1322874b6f0  f9e4b658b201a9f2ecdecbb34bed034b   \n",
       "3  e64fb393e7b32834bb789ff8bb30750e  658677c97b385a9be170737859d3511b   \n",
       "4  f7c4243c7fe1938f181bec41a392bdeb  8e6bfb81e283fa7e4f11123a3fb894f1   \n",
       "\n",
       "   review_score  purchase_time_stamp delivered_customer_date  \n",
       "0             4  2018-01-11 15:30:49     2018-01-17 18:42:41  \n",
       "1             5  2018-02-28 12:25:19     2018-03-09 23:17:20  \n",
       "2             5  2018-02-03 09:56:22     2018-02-16 17:28:48  \n",
       "3             5  2017-04-09 17:41:13     2017-04-20 09:08:35  \n",
       "4             5  2018-02-10 10:59:03     2018-02-28 16:33:35  "
      ]
     },
     "execution_count": 60,
     "metadata": {},
     "output_type": "execute_result"
    }
   ],
   "source": [
    "df_rev_deliv = pd.DataFrame(review_n_delivery)\n",
    "df_rev_deliv.head()"
   ]
  },
  {
   "cell_type": "code",
   "execution_count": 65,
   "metadata": {},
   "outputs": [
    {
     "name": "stdout",
     "output_type": "stream",
     "text": [
      "<class 'pandas.core.frame.DataFrame'>\n",
      "RangeIndex: 99224 entries, 0 to 99223\n",
      "Data columns (total 5 columns):\n",
      " #   Column                   Non-Null Count  Dtype \n",
      "---  ------                   --------------  ----- \n",
      " 0   review_id                99224 non-null  object\n",
      " 1   order_id                 99224 non-null  object\n",
      " 2   review_score             99224 non-null  int64 \n",
      " 3   purchase_time_stamp      99224 non-null  object\n",
      " 4   delivered_customer_date  96359 non-null  object\n",
      "dtypes: int64(1), object(4)\n",
      "memory usage: 3.8+ MB\n"
     ]
    }
   ],
   "source": [
    "df_rev_deliv.info()"
   ]
  },
  {
   "attachments": {},
   "cell_type": "markdown",
   "metadata": {},
   "source": [
    "## 3. Data Exploration and Preprocessing\n",
    "[lakukan proses-proses seperti data wrangling, data cleaning, data manipulation]"
   ]
  },
  {
   "attachments": {},
   "cell_type": "markdown",
   "metadata": {},
   "source": [
    "## 4. Analysis\n",
    "[gali informasi dan analisis dampaknya terhadap bisnis]"
   ]
  }
 ],
 "metadata": {
  "kernelspec": {
   "display_name": "Python 3",
   "language": "python",
   "name": "python3"
  },
  "language_info": {
   "codemirror_mode": {
    "name": "ipython",
    "version": 3
   },
   "file_extension": ".py",
   "mimetype": "text/x-python",
   "name": "python",
   "nbconvert_exporter": "python",
   "pygments_lexer": "ipython3",
   "version": "3.10.7"
  },
  "orig_nbformat": 4,
  "vscode": {
   "interpreter": {
    "hash": "b56bdd541f4dd53dc090db587cebbea2780bf99bf2bbd1c72f453673f286369f"
   }
  }
 },
 "nbformat": 4,
 "nbformat_minor": 2
}
